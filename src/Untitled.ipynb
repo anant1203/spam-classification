{
 "cells": [
  {
   "cell_type": "code",
   "execution_count": 30,
   "metadata": {},
   "outputs": [],
   "source": [
    "import re\n",
    "import pyspark\n",
    "from pyspark.sql import SparkSession,SQLContext\n",
    "from pyspark.sql import Row\n",
    "from pyspark.sql.functions import col, split\n",
    "from pyspark.ml.feature import RegexTokenizer, CountVectorizer, PCA ,StopWordsRemover,StringIndexer\n",
    "from pyspark.ml.evaluation import MulticlassClassificationEvaluator\n",
    "from pyspark.ml.classification import RandomForestClassifier,LogisticRegression,NaiveBayes"
   ]
  },
  {
   "cell_type": "code",
   "execution_count": null,
   "metadata": {},
   "outputs": [],
   "source": [
    "spark = SparkSession.builder.appName(\"spooky\").master('local[*]').config(\"spark.executor.memory\", '6G').config(\"spark.driver.memory\", '6G').config(\"spark.driver.maxResultSize\", '7G').getOrCreate()\n",
    "\n",
    "df = spark.read.format('com.databricks.spark.csv').options(header='true', inferschema='true').load('/home/anant/data-science_2/spam classification/spam.csv')"
   ]
  },
  {
   "cell_type": "code",
   "execution_count": 2,
   "metadata": {},
   "outputs": [],
   "source": [
    "df=df.drop('_c2').drop('_c3').drop('_c4')"
   ]
  },
  {
   "cell_type": "code",
   "execution_count": 3,
   "metadata": {},
   "outputs": [],
   "source": [
    "df = df.selectExpr(\"v1 as class\", \"v2 as text\")"
   ]
  },
  {
   "cell_type": "code",
   "execution_count": 4,
   "metadata": {},
   "outputs": [],
   "source": [
    "from pyspark.sql import functions as F\n",
    "df=df.withColumn('String_Label', F.regexp_replace('class', '\\\\W', ''))"
   ]
  },
  {
   "cell_type": "code",
   "execution_count": 5,
   "metadata": {},
   "outputs": [],
   "source": [
    "df=df.filter(df.text != '')"
   ]
  },
  {
   "cell_type": "code",
   "execution_count": 6,
   "metadata": {},
   "outputs": [
    {
     "name": "stdout",
     "output_type": "stream",
     "text": [
      "+-----+--------------------+------------+--------------------+\n",
      "|class|                text|String_Label|           tokenized|\n",
      "+-----+--------------------+------------+--------------------+\n",
      "|  ham|Go until jurong p...|         ham|[go, until, juron...|\n",
      "|  ham|Ok lar... Joking ...|         ham|[ok, lar, joking,...|\n",
      "| spam|Free entry in 2 a...|        spam|[free, entry, in,...|\n",
      "|  ham|U dun say so earl...|         ham|[u, dun, say, so,...|\n",
      "|  ham|Nah I don't think...|         ham|[nah, i, don, t, ...|\n",
      "| spam|FreeMsg Hey there...|        spam|[freemsg, hey, th...|\n",
      "|  ham|Even my brother i...|         ham|[even, my, brothe...|\n",
      "|  ham|As per your reque...|         ham|[as, per, your, r...|\n",
      "| spam|WINNER!! As a val...|        spam|[winner, as, a, v...|\n",
      "| spam|Had your mobile 1...|        spam|[had, your, mobil...|\n",
      "|  ham|I'm gonna be home...|         ham|[i, m, gonna, be,...|\n",
      "| spam|SIX chances to wi...|        spam|[six, chances, to...|\n",
      "| spam|URGENT! You have ...|        spam|[urgent, you, hav...|\n",
      "|  ham|I've been searchi...|         ham|[i, ve, been, sea...|\n",
      "|  ham|I HAVE A DATE ON ...|         ham|[i, have, a, date...|\n",
      "| spam|XXXMobileMovieClu...|        spam|[xxxmobilemoviecl...|\n",
      "|  ham|Oh k...i'm watchi...|         ham|[oh, k, i, m, wat...|\n",
      "|  ham|Eh u remember how...|         ham|[eh, u, remember,...|\n",
      "|  ham|Fine if that��s t...|         ham|[fine, if, that, ...|\n",
      "| spam|England v Macedon...|        spam|[england, v, mace...|\n",
      "+-----+--------------------+------------+--------------------+\n",
      "only showing top 20 rows\n",
      "\n"
     ]
    }
   ],
   "source": [
    "# tokenizer\n",
    "regexTokenizer = RegexTokenizer(inputCol=\"text\", outputCol=\"tokenized\", pattern=\"\\\\W\")\n",
    "resultantdf=regexTokenizer.transform(df)\n",
    "resultantdf.show()"
   ]
  },
  {
   "cell_type": "code",
   "execution_count": 7,
   "metadata": {},
   "outputs": [],
   "source": [
    "# removal of stop word\n",
    "stopwordsRemover = StopWordsRemover(inputCol=\"tokenized\", outputCol=\"filtered\")\n",
    "\n",
    "resultantdf=stopwordsRemover.transform(resultantdf)\n",
    "\n",
    "resultantdf=resultantdf.drop('text')"
   ]
  },
  {
   "cell_type": "code",
   "execution_count": 8,
   "metadata": {},
   "outputs": [],
   "source": [
    "#count vectorizer implemetation\n",
    "cv = CountVectorizer(inputCol=\"filtered\", outputCol=\"features\")\n",
    "model=cv.fit(resultantdf)\n",
    "\n",
    "result=model.transform(resultantdf)\n",
    "\n",
    "result=result.drop('tokenized').drop('filtered')"
   ]
  },
  {
   "cell_type": "code",
   "execution_count": 9,
   "metadata": {},
   "outputs": [],
   "source": [
    "result=result.drop('class')"
   ]
  },
  {
   "cell_type": "code",
   "execution_count": 10,
   "metadata": {},
   "outputs": [
    {
     "name": "stdout",
     "output_type": "stream",
     "text": [
      "+------------+--------------------+\n",
      "|String_Label|            features|\n",
      "+------------+--------------------+\n",
      "|         ham|(8537,[11,16,37,6...|\n",
      "|         ham|(8537,[0,9,244,36...|\n",
      "|        spam|(8537,[2,10,23,24...|\n",
      "|         ham|(8537,[0,58,85,86...|\n",
      "|         ham|(8537,[53,136,366...|\n",
      "|        spam|(8537,[9,15,21,26...|\n",
      "|         ham|(8537,[15,132,286...|\n",
      "|         ham|(8537,[149,157,31...|\n",
      "|        spam|(8537,[1,64,82,14...|\n",
      "|        spam|(8537,[0,1,10,31,...|\n",
      "|         ham|(8537,[3,22,29,33...|\n",
      "|        spam|(8537,[6,17,21,24...|\n",
      "|        spam|(8537,[10,24,26,5...|\n",
      "|         ham|(8537,[45,77,84,1...|\n",
      "|         ham|(8537,[479,677],[...|\n",
      "|        spam|(8537,[24,37,80,1...|\n",
      "|         ham|(8537,[3,41,63,27...|\n",
      "|         ham|(8537,[0,2,71,73,...|\n",
      "|         ham|(8537,[0,72,91,13...|\n",
      "|        spam|(8537,[5,24,26,42...|\n",
      "+------------+--------------------+\n",
      "only showing top 20 rows\n",
      "\n"
     ]
    }
   ],
   "source": [
    "result.show()"
   ]
  },
  {
   "cell_type": "code",
   "execution_count": 11,
   "metadata": {},
   "outputs": [],
   "source": [
    "indexer = StringIndexer(inputCol=\"String_Label\", outputCol=\"label\")"
   ]
  },
  {
   "cell_type": "code",
   "execution_count": 12,
   "metadata": {},
   "outputs": [],
   "source": [
    "indexed = indexer.fit(result).transform(result)"
   ]
  },
  {
   "cell_type": "code",
   "execution_count": 16,
   "metadata": {},
   "outputs": [],
   "source": [
    "indexed=indexed.drop('String_Label')"
   ]
  },
  {
   "cell_type": "code",
   "execution_count": 17,
   "metadata": {},
   "outputs": [
    {
     "name": "stdout",
     "output_type": "stream",
     "text": [
      "+--------------------+-----+\n",
      "|            features|label|\n",
      "+--------------------+-----+\n",
      "|(8537,[11,16,37,6...|  0.0|\n",
      "|(8537,[0,9,244,36...|  0.0|\n",
      "+--------------------+-----+\n",
      "only showing top 2 rows\n",
      "\n"
     ]
    }
   ],
   "source": [
    "indexed.show(2)"
   ]
  },
  {
   "cell_type": "code",
   "execution_count": 19,
   "metadata": {},
   "outputs": [],
   "source": [
    "# Splitting of data set\n",
    "(trainingData, testData) = indexed.randomSplit([0.7, 0.3], seed = 100)"
   ]
  },
  {
   "cell_type": "code",
   "execution_count": 22,
   "metadata": {},
   "outputs": [
    {
     "name": "stdout",
     "output_type": "stream",
     "text": [
      "+------------+-----+\n",
      "|    features|label|\n",
      "+------------+-----+\n",
      "|(8537,[],[])|  0.0|\n",
      "|(8537,[],[])|  0.0|\n",
      "+------------+-----+\n",
      "only showing top 2 rows\n",
      "\n",
      "+----------------+-----+\n",
      "|        features|label|\n",
      "+----------------+-----+\n",
      "|    (8537,[],[])|  0.0|\n",
      "|(8537,[0],[1.0])|  0.0|\n",
      "+----------------+-----+\n",
      "only showing top 2 rows\n",
      "\n"
     ]
    }
   ],
   "source": [
    "trainingData.show(2)\n",
    "testData.show(2)"
   ]
  },
  {
   "cell_type": "markdown",
   "metadata": {},
   "source": [
    "# random forest"
   ]
  },
  {
   "cell_type": "code",
   "execution_count": 35,
   "metadata": {},
   "outputs": [],
   "source": [
    " # Using RandomForestClassifier to train the model\n",
    "rf = RandomForestClassifier(labelCol=\"label\",featuresCol=\"features\",numTrees = 30,maxDepth = 20)\n",
    "# Train model with Training Data\n",
    "rfModel = rf.fit(trainingData)\n",
    "# Prediction\n",
    "predictions = rfModel.transform(testData)"
   ]
  },
  {
   "cell_type": "code",
   "execution_count": 36,
   "metadata": {},
   "outputs": [
    {
     "name": "stdout",
     "output_type": "stream",
     "text": [
      "+----------------+-----+--------------------+--------------------+----------+\n",
      "|        features|label|       rawPrediction|         probability|prediction|\n",
      "+----------------+-----+--------------------+--------------------+----------+\n",
      "|    (8537,[],[])|  0.0|[28.4578731936966...|[0.94859577312322...|       0.0|\n",
      "|(8537,[0],[1.0])|  0.0|[28.4578731936966...|[0.94859577312322...|       0.0|\n",
      "+----------------+-----+--------------------+--------------------+----------+\n",
      "only showing top 2 rows\n",
      "\n"
     ]
    }
   ],
   "source": [
    "predictions.show(2)"
   ]
  },
  {
   "cell_type": "code",
   "execution_count": 37,
   "metadata": {},
   "outputs": [
    {
     "data": {
      "text/plain": [
       "0.9444926928147461"
      ]
     },
     "execution_count": 37,
     "metadata": {},
     "output_type": "execute_result"
    }
   ],
   "source": [
    "evaluator = MulticlassClassificationEvaluator(predictionCol=\"prediction\")\n",
    "evaluator.evaluate(predictions)"
   ]
  },
  {
   "cell_type": "markdown",
   "metadata": {},
   "source": [
    "# logistic Regression"
   ]
  },
  {
   "cell_type": "code",
   "execution_count": 29,
   "metadata": {},
   "outputs": [
    {
     "data": {
      "text/plain": [
       "0.9542490584776779"
      ]
     },
     "execution_count": 29,
     "metadata": {},
     "output_type": "execute_result"
    }
   ],
   "source": [
    "lr=LogisticRegression(labelCol=\"label\",featuresCol=\"features\")\n",
    "# train the model \n",
    "lrmodel=lr.fit(trainingData)\n",
    "# Prediction\n",
    "predictions = rfModel.transform(testData)\n",
    "evaluatorlr = MulticlassClassificationEvaluator(predictionCol=\"prediction\")\n",
    "evaluatorlr.evaluate(predictions)"
   ]
  },
  {
   "cell_type": "markdown",
   "metadata": {},
   "source": [
    "# navies Bayes"
   ]
  },
  {
   "cell_type": "code",
   "execution_count": 31,
   "metadata": {},
   "outputs": [
    {
     "data": {
      "text/plain": [
       "0.9846263105130661"
      ]
     },
     "execution_count": 31,
     "metadata": {},
     "output_type": "execute_result"
    }
   ],
   "source": [
    "nb = NaiveBayes(smoothing=1)\n",
    "model = nb.fit(trainingData)\n",
    "predictions= model.transform(testData)\n",
    "evaluatorlr = MulticlassClassificationEvaluator(predictionCol=\"prediction\")\n",
    "evaluatorlr.evaluate(predictions)"
   ]
  },
  {
   "cell_type": "markdown",
   "metadata": {},
   "source": [
    "# Support Vector Machine"
   ]
  },
  {
   "cell_type": "code",
   "execution_count": 40,
   "metadata": {},
   "outputs": [],
   "source": [
    "from pyspark.ml.classification import LinearSVC\n",
    "lsvc = LinearSVC(maxIter=10, regParam=0.1)\n",
    "\n",
    "# Fit the model\n",
    "lsvcModel = lsvc.fit(trainingData)\n",
    "\n",
    "# Print the coefficients and intercept for linearsSVC\n",
    "#print(\"Coefficients: \" + str(lsvcModel.coefficients))\n",
    "#print(\"Intercept: \" + str(lsvcModel.intercept))"
   ]
  },
  {
   "cell_type": "code",
   "execution_count": 41,
   "metadata": {},
   "outputs": [
    {
     "data": {
      "text/plain": [
       "0.9694534959727179"
      ]
     },
     "execution_count": 41,
     "metadata": {},
     "output_type": "execute_result"
    }
   ],
   "source": [
    "predictions = lsvcModel.transform(testData)\n",
    "evaluatorsvm = MulticlassClassificationEvaluator(predictionCol=\"prediction\")\n",
    "evaluatorsvm.evaluate(predictions)"
   ]
  },
  {
   "cell_type": "markdown",
   "metadata": {},
   "source": [
    "# K Mean Clustering"
   ]
  },
  {
   "cell_type": "code",
   "execution_count": 62,
   "metadata": {},
   "outputs": [],
   "source": [
    "from pyspark.ml.clustering import KMeans\n",
    "# Trains a k-means model.\n",
    "kmeans = KMeans().setK(2).setSeed(1)\n",
    "kmodel = kmeans.fit(trainingData)\n",
    "predictions=kmodel.transform(testData)"
   ]
  },
  {
   "cell_type": "code",
   "execution_count": 63,
   "metadata": {},
   "outputs": [
    {
     "name": "stdout",
     "output_type": "stream",
     "text": [
      "+--------------------+-----+----------+\n",
      "|            features|label|prediction|\n",
      "+--------------------+-----+----------+\n",
      "|        (8537,[],[])|  0.0|         0|\n",
      "|    (8537,[0],[1.0])|  0.0|         0|\n",
      "|    (8537,[0],[1.0])|  0.0|         0|\n",
      "|(8537,[0,1],[1.0,...|  0.0|         0|\n",
      "|(8537,[0,1,2,5,31...|  1.0|         1|\n",
      "|(8537,[0,1,2,5,31...|  1.0|         1|\n",
      "|(8537,[0,1,2,5,31...|  1.0|         1|\n",
      "|(8537,[0,1,2,5,43...|  1.0|         1|\n",
      "|(8537,[0,1,2,13,1...|  1.0|         0|\n",
      "|(8537,[0,1,2,13,1...|  1.0|         0|\n",
      "|(8537,[0,1,2,19,6...|  1.0|         1|\n",
      "|(8537,[0,1,2,19,6...|  1.0|         1|\n",
      "|(8537,[0,1,2,19,6...|  1.0|         1|\n",
      "|(8537,[0,1,2,34,4...|  0.0|         0|\n",
      "|(8537,[0,1,2,113,...|  1.0|         0|\n",
      "|(8537,[0,1,3,378,...|  0.0|         0|\n",
      "|(8537,[0,1,5,14,1...|  0.0|         1|\n",
      "|(8537,[0,1,6,11,3...|  0.0|         0|\n",
      "|(8537,[0,1,9,30,6...|  0.0|         0|\n",
      "|(8537,[0,1,10,22,...|  1.0|         0|\n",
      "+--------------------+-----+----------+\n",
      "only showing top 20 rows\n",
      "\n"
     ]
    }
   ],
   "source": [
    "predictions.show()"
   ]
  },
  {
   "cell_type": "code",
   "execution_count": 64,
   "metadata": {},
   "outputs": [
    {
     "data": {
      "text/plain": [
       "0.8105478731033524"
      ]
     },
     "execution_count": 64,
     "metadata": {},
     "output_type": "execute_result"
    }
   ],
   "source": [
    "# converting column datatype from integer to double\n",
    "from pyspark.sql.types import DoubleType\n",
    "predictions = predictions.withColumn(\"prediction\", predictions[\"prediction\"].cast(DoubleType()))\n",
    "evaluatorsvm = MulticlassClassificationEvaluator(predictionCol=\"prediction\")\n",
    "evaluatorsvm.evaluate(predictions)"
   ]
  },
  {
   "cell_type": "code",
   "execution_count": null,
   "metadata": {},
   "outputs": [],
   "source": [
    "model=arge"
   ]
  }
 ],
 "metadata": {
  "kernelspec": {
   "display_name": "Python 3",
   "language": "python",
   "name": "python3"
  },
  "language_info": {
   "codemirror_mode": {
    "name": "ipython",
    "version": 3
   },
   "file_extension": ".py",
   "mimetype": "text/x-python",
   "name": "python",
   "nbconvert_exporter": "python",
   "pygments_lexer": "ipython3",
   "version": "3.6.7"
  }
 },
 "nbformat": 4,
 "nbformat_minor": 2
}
